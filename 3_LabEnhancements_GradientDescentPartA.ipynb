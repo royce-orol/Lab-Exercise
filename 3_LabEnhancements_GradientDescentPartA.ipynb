{
 "cells": [
  {
   "cell_type": "markdown",
   "metadata": {},
   "source": [
    "## <font color='lightblue'>Lab Enhancement : Gradient Descent Part A </font>"
   ]
  }
 ],
 "metadata": {
  "language_info": {
   "name": "python"
  }
 },
 "nbformat": 4,
 "nbformat_minor": 2
}
