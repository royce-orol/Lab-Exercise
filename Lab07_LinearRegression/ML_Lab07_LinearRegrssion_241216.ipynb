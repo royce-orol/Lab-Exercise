{
 "cells": [
  {
   "cell_type": "markdown",
   "metadata": {
    "id": "8mOkEEicpfrU"
   },
   "source": [
    "<font size=48>Machine Learning</font><br>\n",
    "\n",
    "## Lab07 - Linear Regression\n",
    "\n",
    "Objectives:\n",
    "- Learn Linear Regression\n",
    "\n",
    "Version: 2024-12-16\n",
    "\n",
    "This lab is by YP Wong [<yp@ypwong.net>](mailto:yp@ypwong.net).\n"
   ]
  },
  {
   "cell_type": "markdown",
   "metadata": {
    "id": "j3hX-CkW9SuQ"
   },
   "source": [
    "References:\n",
    "- https://realpython.com/linear-regression-in-python/\n",
    "- https://scikit-learn.org/stable/modules/linear_model.html\n",
    "- https://www.statsmodels.org/stable/index.html"
   ]
  },
  {
   "cell_type": "markdown",
   "metadata": {
    "id": "SwtD-96spq6d"
   },
   "source": [
    "## <font color='lightblue'>Mount Google Drive</font>"
   ]
  },
  {
   "cell_type": "code",
   "execution_count": null,
   "metadata": {
    "id": "yi5s3eZepTdd"
   },
   "outputs": [],
   "source": [
    "# Uncomment the below if you need to read data from your Google Drive\n",
    "# Change the notebook_path to where you run the Jupyter Notebook from.\n",
    "\n",
    "# from google.colab import drive\n",
    "# import os\n",
    "\n",
    "# drive.mount('/content/drive')"
   ]
  },
  {
   "cell_type": "code",
   "execution_count": null,
   "metadata": {
    "id": "LmeIOrvdFKSm"
   },
   "outputs": [],
   "source": [
    "# notebook_path = r\"/content/drive/MyDrive//ML/Demo\"\n",
    "# os.chdir(notebook_path)\n",
    "# !pwd"
   ]
  },
  {
   "cell_type": "markdown",
   "metadata": {},
   "source": []
  },
  {
   "cell_type": "markdown",
   "metadata": {
    "id": "nuFWemvypvv5"
   },
   "source": [
    "## <font color='lightblue'>Import Libraries</font>"
   ]
  },
  {
   "cell_type": "code",
   "execution_count": null,
   "metadata": {
    "id": "avTS6wASpqQs"
   },
   "outputs": [],
   "source": [
    "import numpy as np\n",
    "from sklearn.linear_model import LinearRegression"
   ]
  },
  {
   "cell_type": "markdown",
   "metadata": {
    "id": "oTnbMhW9p0iD"
   },
   "source": [
    "## <font color='lightblue'>Simple Linear Regression With `scikit-learn`</font>\n",
    "\n",
    "Reference:\n",
    "\n",
    "- https://scikit-learn.org/stable/modules/generated/sklearn.linear_model.LinearRegression.html"
   ]
  },
  {
   "cell_type": "code",
   "execution_count": null,
   "metadata": {
    "colab": {
     "base_uri": "https://localhost:8080/",
     "height": 582
    },
    "executionInfo": {
     "elapsed": 9,
     "status": "ok",
     "timestamp": 1734308118573,
     "user": {
      "displayName": "YP Wong MMU",
      "userId": "07689819114152186357"
     },
     "user_tz": -480
    },
    "id": "q-7SCBWfISmF",
    "outputId": "cb5feefd-0d06-485c-cc4a-6794c07f374a"
   },
   "outputs": [],
   "source": [
    "import matplotlib.pyplot as plt\n",
    "%matplotlib inline\n",
    "\n",
    "plt.figure(figsize=(8, 6))\n",
    "\n",
    "X = np.array([1, 3, 5, 6, 8, 9]).reshape((-1, 1))\n",
    "y = np.array([4, 6, 9, 13, 14, 17]).reshape((-1, 1))\n",
    "print(X.shape)\n",
    "print(y.shape)\n",
    "\n",
    "plt.scatter(X, y, color = \"blue\", label = \"Data Points\")\n",
    "plt.xlim(0, 10)\n",
    "plt.ylim(0, 20)\n",
    "plt.xlabel('x')\n",
    "plt.ylabel('y')\n",
    "\n",
    "plt.show()"
   ]
  },
  {
   "cell_type": "code",
   "execution_count": null,
   "metadata": {
    "colab": {
     "base_uri": "https://localhost:8080/",
     "height": 80
    },
    "executionInfo": {
     "elapsed": 8,
     "status": "ok",
     "timestamp": 1734308118574,
     "user": {
      "displayName": "YP Wong MMU",
      "userId": "07689819114152186357"
     },
     "user_tz": -480
    },
    "id": "w9VtLj_7I1jq",
    "outputId": "d1637a59-4ad5-4d49-c5b4-36543ded5cb0"
   },
   "outputs": [],
   "source": [
    "model = LinearRegression()\n",
    "\n",
    "model.fit(X, y)"
   ]
  },
  {
   "cell_type": "code",
   "execution_count": null,
   "metadata": {
    "colab": {
     "base_uri": "https://localhost:8080/",
     "height": 765
    },
    "executionInfo": {
     "elapsed": 707,
     "status": "ok",
     "timestamp": 1734308119274,
     "user": {
      "displayName": "YP Wong MMU",
      "userId": "07689819114152186357"
     },
     "user_tz": -480
    },
    "id": "cxBk_d6aG2Di",
    "outputId": "d3c4a5e4-0bcc-4c4d-8bda-f9f2992cd1a7"
   },
   "outputs": [],
   "source": [
    "r_sq = model.score(X, y)\n",
    "\n",
    "print(f\"coefficient of determination: {r_sq}\")\n",
    "print(f\"intercept: {model.intercept_}\")\n",
    "print(f\"slope: {model.coef_}\")\n",
    "\n",
    "y_pred = model.predict(X)\n",
    "print(f\"predicted response:\\n{y_pred}\")\n",
    "\n",
    "plt.figure(figsize=(8, 6))\n",
    "\n",
    "plt.xlim(0, 10)\n",
    "plt.ylim(0, 20)\n",
    "plt.xlabel('x')\n",
    "plt.ylabel('y')\n",
    "plt.scatter(X, y, color = \"blue\", label = \"Data Points\")\n",
    "plt.scatter(X, y_pred, color = \"red\", label = \"Predicted Points\")\n",
    "\n",
    "line_X_ends = np.array([[0], [10]]).reshape(-1,1)\n",
    "line_y_ends = model.predict(line_X_ends)\n",
    "plt.plot(line_X_ends, line_y_ends)\n",
    "plt.title(\"$y$ = (%0.3f) + (%0.3f) $x$\\n$R^2$ = %0.3f\" % (model.intercept_[0], model.coef_[0][0], r_sq))\n",
    "\n",
    "plt.legend()\n",
    "\n",
    "plt.show()"
   ]
  },
  {
   "cell_type": "code",
   "execution_count": null,
   "metadata": {
    "colab": {
     "base_uri": "https://localhost:8080/"
    },
    "executionInfo": {
     "elapsed": 7,
     "status": "ok",
     "timestamp": 1734308119274,
     "user": {
      "displayName": "YP Wong MMU",
      "userId": "07689819114152186357"
     },
     "user_tz": -480
    },
    "id": "kK1NaUVoW1nE",
    "outputId": "71724a26-2e56-44a8-a7c8-d4269eecee82"
   },
   "outputs": [],
   "source": [
    "y_pred = model.predict(X)\n",
    "print(f\"predicted response:\\n{y_pred}\")\n",
    "\n",
    "# Manually compute prediction using equation\n",
    "y_pred_eq = model.intercept_ + model.coef_ * X\n",
    "print(f\"predicted response:\\n{y_pred_eq}\")\n",
    "\n",
    "print(np.abs(y_pred - y_pred_eq) < 0.0000001)"
   ]
  },
  {
   "cell_type": "code",
   "execution_count": null,
   "metadata": {
    "colab": {
     "base_uri": "https://localhost:8080/",
     "height": 591
    },
    "executionInfo": {
     "elapsed": 903,
     "status": "ok",
     "timestamp": 1734308120172,
     "user": {
      "displayName": "YP Wong MMU",
      "userId": "07689819114152186357"
     },
     "user_tz": -480
    },
    "id": "l67pgJZV_ZGM",
    "outputId": "b4c656df-ce21-47da-dfa6-821af6e82338"
   },
   "outputs": [],
   "source": [
    "X_new = np.array([2, 3.5, 4, 5.5, 7, 8.5, 10]).reshape((-1, 1))\n",
    "y_new_pred = model.predict(X_new)\n",
    "\n",
    "plt.figure(figsize=(8, 6))\n",
    "\n",
    "plt.xlim(0, 10)\n",
    "plt.ylim(0, 20)\n",
    "plt.xlabel('x')\n",
    "plt.ylabel('y')\n",
    "plt.scatter(X, y, color = \"blue\", label = \"Data Points\")\n",
    "plt.scatter(X, y_pred, color = \"red\", label = \"Predicted Points\")\n",
    "plt.scatter(X_new, y_new_pred, color = \"cyan\", label = \"New Predicted Points\")\n",
    "\n",
    "line_X_ends = np.array([[0], [10]])\n",
    "line_y_ends = model.predict(line_X_ends)\n",
    "plt.plot(line_X_ends, line_y_ends)\n",
    "plt.title(\"$y$ = (%0.3f) + (%0.3f) $x$ \\n$R^2$ = %0.3f\" % (model.intercept_[0], model.coef_[0][0], r_sq))\n",
    "\n",
    "plt.legend()\n",
    "\n",
    "plt.show()"
   ]
  },
  {
   "cell_type": "markdown",
   "metadata": {
    "id": "Vs3ZbIZQSKry"
   },
   "source": [
    "## <font color='lightblue'>Multiple Linear Regression With `scikit-learn`</font>\n"
   ]
  },
  {
   "cell_type": "code",
   "execution_count": null,
   "metadata": {
    "colab": {
     "base_uri": "https://localhost:8080/"
    },
    "executionInfo": {
     "elapsed": 12,
     "status": "ok",
     "timestamp": 1734308120172,
     "user": {
      "displayName": "YP Wong MMU",
      "userId": "07689819114152186357"
     },
     "user_tz": -480
    },
    "id": "VAJ8y9ubSMQ3",
    "outputId": "cdea6f2c-98bd-4cf8-858d-6218511bc0fc"
   },
   "outputs": [],
   "source": [
    "import numpy as np\n",
    "from sklearn.linear_model import LinearRegression\n",
    "\n",
    "X = np.array( [ [  5, 35],\n",
    "                [ 10, 50],\n",
    "                [ 25, 50],\n",
    "                [ 40, 15],\n",
    "                [ 55, 90],\n",
    "                [ 60, 45],\n",
    "                [ 75, 75],\n",
    "                [ 80, 15],\n",
    "                [ 90, 60],\n",
    "                [100, 40]\n",
    "              ] )\n",
    "\n",
    "y = np.array( [40.0, 30.0, 28.0, 40.0, 15.0, 25.0, 10.0, 30.0, 16.0, 15.0] ).reshape((-1, 1))\n",
    "\n",
    "print(X)\n",
    "print(y)"
   ]
  },
  {
   "cell_type": "code",
   "execution_count": null,
   "metadata": {
    "colab": {
     "base_uri": "https://localhost:8080/",
     "height": 80
    },
    "executionInfo": {
     "elapsed": 10,
     "status": "ok",
     "timestamp": 1734308120172,
     "user": {
      "displayName": "YP Wong MMU",
      "userId": "07689819114152186357"
     },
     "user_tz": -480
    },
    "id": "plghrJ6-STUA",
    "outputId": "153667cf-1651-48af-c499-79c3a95f4238"
   },
   "outputs": [],
   "source": [
    "model = LinearRegression()\n",
    "\n",
    "model.fit(X, y)"
   ]
  },
  {
   "cell_type": "code",
   "execution_count": null,
   "metadata": {
    "colab": {
     "base_uri": "https://localhost:8080/"
    },
    "executionInfo": {
     "elapsed": 9,
     "status": "ok",
     "timestamp": 1734308120172,
     "user": {
      "displayName": "YP Wong MMU",
      "userId": "07689819114152186357"
     },
     "user_tz": -480
    },
    "id": "juE6woMPSchY",
    "outputId": "f48d8557-d8bd-4071-c6b8-5a7429bc3817"
   },
   "outputs": [],
   "source": [
    "r_sq = model.score(X, y)\n",
    "\n",
    "print(f\"coefficient of determination: {r_sq}\")\n",
    "print(f\"intercept: {model.intercept_}\")\n",
    "print(f\"slope: {model.coef_}\")\n",
    "\n",
    "y_pred = model.predict(X)\n",
    "print(f\"predicted response:\\n{y_pred}\")"
   ]
  },
  {
   "cell_type": "code",
   "execution_count": null,
   "metadata": {
    "colab": {
     "base_uri": "https://localhost:8080/"
    },
    "executionInfo": {
     "elapsed": 8,
     "status": "ok",
     "timestamp": 1734308120172,
     "user": {
      "displayName": "YP Wong MMU",
      "userId": "07689819114152186357"
     },
     "user_tz": -480
    },
    "id": "NmSYhccPM1e0",
    "outputId": "d5182307-ca3a-4640-f1b5-f2d03576b228"
   },
   "outputs": [],
   "source": [
    "y_pred = model.predict(X)\n",
    "print(f\"predicted response:\\n{y_pred}\")\n",
    "\n",
    "# Manually compute prediction using equation\n",
    "y_pred_eq = model.intercept_ + np.sum(model.coef_ * X, axis = 1).reshape((-1, 1))\n",
    "print(f\"predicted response:\\n{y_pred_eq}\")\n",
    "\n",
    "print(np.abs(y_pred - y_pred_eq) < 0.0000001)"
   ]
  },
  {
   "cell_type": "code",
   "execution_count": null,
   "metadata": {
    "colab": {
     "base_uri": "https://localhost:8080/",
     "height": 617
    },
    "executionInfo": {
     "elapsed": 1024,
     "status": "ok",
     "timestamp": 1734308121190,
     "user": {
      "displayName": "YP Wong MMU",
      "userId": "07689819114152186357"
     },
     "user_tz": -480
    },
    "id": "4BDUUPruGWTM",
    "outputId": "604a0156-efa4-4774-e1f6-32b079b2f1e6"
   },
   "outputs": [],
   "source": [
    "import plotly.graph_objects as go\n",
    "\n",
    "scatter_points = go.Scatter3d(\n",
    "                              x = X[:, 0],\n",
    "                              y = X[:, 1],\n",
    "                              z = y.reshape(-1),\n",
    "                              mode = 'markers',\n",
    "                              marker = {\"size\": 5, \"color\": \"blue\"},\n",
    "                              name = 'Data Points'\n",
    "                             )\n",
    "\n",
    "scatter_points_pred = go.Scatter3d(\n",
    "                              x = X[:, 0],\n",
    "                              y = X[:, 1],\n",
    "                              z = y_pred.reshape(-1),\n",
    "                              mode = 'markers',\n",
    "                              marker = {\"size\": 5, \"color\": \"red\"},\n",
    "                              name = 'Predicted Points'\n",
    "                             )\n",
    "\n",
    "coef0 = model.intercept_.squeeze()\n",
    "coef1 = model.coef_.squeeze()[0]\n",
    "coef2 = model.coef_.squeeze()[1]\n",
    "\n",
    "mesh_X1, mesh_X2 = np.meshgrid(np.linspace(0, 100, 10),\n",
    "                               np.linspace(0, 100, 10))\n",
    "mesh_y = model.intercept_ + (coef1 * mesh_X1 + coef2 * mesh_X2)\n",
    "\n",
    "surface_plane = go.Surface(x = mesh_X1, y = mesh_X2, z = mesh_y,\n",
    "                           opacity = 0.7, colorscale = 'Viridis',\n",
    "                           showscale = False,\n",
    "                           name = 'Fitted Plane')\n",
    "\n",
    "fig = go.Figure(data = [scatter_points, scatter_points_pred, surface_plane])\n",
    "\n",
    "title_text = \"y = (%0.3f) + (%0.3f) X1 + (%0.3f) X2 [R^2 = %0.3f]\" % (coef0, coef1, coef2, r_sq)\n",
    "\n",
    "fig.update_layout(scene = {\"xaxis_title\": \"X1\",\n",
    "                           \"yaxis_title\": \"X2\",\n",
    "                           \"zaxis_title\": \"y\"},\n",
    "                  width = 720,\n",
    "                  height = 600,\n",
    "                  scene_camera = { \"eye\": {\"x\": -1, \"y\": -1.5, \"z\": 1.5} },\n",
    "                  title = {\"text\": title_text,\n",
    "                           \"font\": {\"size\": 20},\n",
    "                           \"x\": 0.5,\n",
    "                           \"xanchor\": \"center\"\n",
    "                          }\n",
    "                 )\n",
    "\n",
    "fig.show()"
   ]
  },
  {
   "cell_type": "code",
   "execution_count": null,
   "metadata": {
    "colab": {
     "base_uri": "https://localhost:8080/",
     "height": 779
    },
    "executionInfo": {
     "elapsed": 14,
     "status": "ok",
     "timestamp": 1734308121190,
     "user": {
      "displayName": "YP Wong MMU",
      "userId": "07689819114152186357"
     },
     "user_tz": -480
    },
    "id": "_Ck3ub__aQj9",
    "outputId": "c9f2d5b3-7e25-4557-d613-f70e0715d25a"
   },
   "outputs": [],
   "source": [
    "from matplotlib import cm\n",
    "\n",
    "fig = plt.figure(figsize=(18, 9))\n",
    "\n",
    "ax = fig.add_subplot(111, projection='3d')\n",
    "\n",
    "ax.view_init(elev = 20, azim =250)\n",
    "ax.scatter(X[:, 0], X[:, 1], y,\n",
    "           c = \"blue\", marker = \"o\", label = \"Data Points\")\n",
    "\n",
    "ax.scatter(X[:, 0], X[:, 1], y_pred,\n",
    "           c = \"cyan\", marker = \"o\", label = \"Predicted Points\")\n",
    "\n",
    "coef0 = model.intercept_.squeeze()\n",
    "coef1 = model.coef_.squeeze()[0]\n",
    "coef2 = model.coef_.squeeze()[1]\n",
    "\n",
    "mesh_X1, mesh_X2 = np.meshgrid(np.linspace(0, 100, 10),\n",
    "                               np.linspace(0, 100, 10))\n",
    "mesh_y = model.intercept_ + (coef1 * mesh_X1\n",
    "                           + coef2 * mesh_X2)\n",
    "\n",
    "ax.plot_surface(mesh_X1, mesh_X2, mesh_y,\n",
    "                alpha=0.5, rstride=100, cstride=100, cmap = 'YlOrRd',\n",
    "                edgecolors='k')\n",
    "\n",
    "ax.set_xlabel('X1')\n",
    "ax.set_ylabel('X2')\n",
    "ax.set_zlabel('y')\n",
    "title_text = \"$y$ = (%0.3f) + (%0.3f) $X1$ + (%0.3f) $X2$\\n$R^2$ = %0.3f\" % (coef0, coef1, coef2, r_sq)\n",
    "ax.set_title(title_text)\n",
    "\n",
    "plt.show()"
   ]
  },
  {
   "cell_type": "code",
   "execution_count": null,
   "metadata": {
    "colab": {
     "base_uri": "https://localhost:8080/",
     "height": 617
    },
    "executionInfo": {
     "elapsed": 13,
     "status": "ok",
     "timestamp": 1734308121190,
     "user": {
      "displayName": "YP Wong MMU",
      "userId": "07689819114152186357"
     },
     "user_tz": -480
    },
    "id": "dkH2Xp0UJn7s",
    "outputId": "01abdaa8-8beb-4ad1-dc75-3217f35211dd"
   },
   "outputs": [],
   "source": [
    "import plotly.graph_objects as go\n",
    "\n",
    "X_new = np.array( [ [  5, 10],\n",
    "                    [ 10, 65],\n",
    "                    [ 25, 90],\n",
    "                    [ 40, 75],\n",
    "                    [ 55, 50],\n",
    "                    [ 60, 25],\n",
    "                    [ 75, 50],\n",
    "                    [ 80, 60],\n",
    "                    [ 90, 70],\n",
    "                    [100, 90]\n",
    "                  ] )\n",
    "\n",
    "y_new_pred = model.predict(X_new)\n",
    "\n",
    "scatter_points = go.Scatter3d(\n",
    "                              x = X[:, 0],\n",
    "                              y = X[:, 1],\n",
    "                              z = y.reshape(-1),\n",
    "                              mode = 'markers',\n",
    "                              marker = {\"size\": 5, \"color\": \"blue\"},\n",
    "                              name = 'Data Points'\n",
    "                             )\n",
    "\n",
    "scatter_points_pred = go.Scatter3d(\n",
    "                              x = X[:, 0],\n",
    "                              y = X[:, 1],\n",
    "                              z = y_pred.reshape(-1),\n",
    "                              mode = 'markers',\n",
    "                              marker = {\"size\": 5, \"color\": \"red\"},\n",
    "                              name = 'Predicted Points'\n",
    "                             )\n",
    "\n",
    "scatter_points_new_pred = go.Scatter3d(\n",
    "                              x = X_new[:, 0],\n",
    "                              y = X_new[:, 1],\n",
    "                              z = y_new_pred.reshape(-1),\n",
    "                              mode = 'markers',\n",
    "                              marker = {\"size\": 5, \"color\": \"cyan\"},\n",
    "                              name = 'New Predicted Points'\n",
    "                             )\n",
    "\n",
    "coef0 = model.intercept_.squeeze()\n",
    "coef1 = model.coef_.squeeze()[0]\n",
    "coef2 = model.coef_.squeeze()[1]\n",
    "\n",
    "mesh_X1, mesh_X2 = np.meshgrid(np.linspace(0, 100, 10),\n",
    "                               np.linspace(0, 100, 10))\n",
    "mesh_y = model.intercept_ + (coef1 * mesh_X1 + coef2 * mesh_X2)\n",
    "\n",
    "surface_plane = go.Surface(x = mesh_X1, y = mesh_X2, z = mesh_y,\n",
    "                           opacity = 0.7, colorscale = 'Viridis',\n",
    "                           showscale = False,\n",
    "                           name = 'Fitted Plane')\n",
    "\n",
    "fig = go.Figure(data = [scatter_points, scatter_points_pred,  scatter_points_new_pred,\n",
    "                        surface_plane])\n",
    "\n",
    "title_text = \"y = (%0.3f) + (%0.3f) X1 + (%0.3f) X2 [R^2 = %0.3f]\" % (coef0, coef1, coef2, r_sq)\n",
    "\n",
    "fig.update_layout(scene = {\"xaxis_title\": \"X1\",\n",
    "                           \"yaxis_title\": \"X2\",\n",
    "                           \"zaxis_title\": \"y\"},\n",
    "                  width = 720,\n",
    "                  height = 600,\n",
    "                  scene_camera = { \"eye\": {\"x\": -1, \"y\": -1.5, \"z\": 1.5} },\n",
    "                  title = {\"text\": title_text,\n",
    "                           \"font\": {\"size\": 20},\n",
    "                           \"x\": 0.5,\n",
    "                           \"xanchor\": \"center\"\n",
    "                          }\n",
    "                 )\n",
    "\n",
    "fig.show()"
   ]
  },
  {
   "cell_type": "markdown",
   "metadata": {
    "id": "XnTgKVYBS_ys"
   },
   "source": [
    "## Polynomial Regression With scikit-learn\n",
    "\n",
    "\n",
    "Reference:\n",
    "- https://scikit-learn.org/stable/modules/generated/sklearn.preprocessing.PolynomialFeatures.html"
   ]
  },
  {
   "cell_type": "code",
   "execution_count": null,
   "metadata": {
    "id": "DGin6vDgS00Q"
   },
   "outputs": [],
   "source": [
    "import numpy as np\n",
    "from sklearn.linear_model import LinearRegression\n",
    "\n",
    "from sklearn.preprocessing import PolynomialFeatures"
   ]
  },
  {
   "cell_type": "code",
   "execution_count": null,
   "metadata": {
    "colab": {
     "base_uri": "https://localhost:8080/"
    },
    "executionInfo": {
     "elapsed": 13,
     "status": "ok",
     "timestamp": 1734308121191,
     "user": {
      "displayName": "YP Wong MMU",
      "userId": "07689819114152186357"
     },
     "user_tz": -480
    },
    "id": "XOJgAXZ4TFuA",
    "outputId": "7604cad4-a153-4fa5-8032-5f53934d247d"
   },
   "outputs": [],
   "source": [
    "X = np.array([1, 2, 4, 6, 8, 9]).reshape((-1, 1))\n",
    "y = np.array([8, 6, 1, 3, 13, 17]).reshape((-1, 1))\n",
    "\n",
    "print(X)\n",
    "print(y)"
   ]
  },
  {
   "cell_type": "markdown",
   "metadata": {
    "id": "HAcIiY8Gc6s8"
   },
   "source": [
    "Method 1: Polynomial Features: `include_bias = False`"
   ]
  },
  {
   "cell_type": "code",
   "execution_count": null,
   "metadata": {
    "colab": {
     "base_uri": "https://localhost:8080/"
    },
    "executionInfo": {
     "elapsed": 10,
     "status": "ok",
     "timestamp": 1734308121191,
     "user": {
      "displayName": "YP Wong MMU",
      "userId": "07689819114152186357"
     },
     "user_tz": -480
    },
    "id": "8dAO_F2gTLLQ",
    "outputId": "1ad07f61-92e2-4c8b-9e66-e64b0a06f912"
   },
   "outputs": [],
   "source": [
    "transformer = PolynomialFeatures(degree = 2, include_bias = False)\n",
    "\n",
    "X_ = transformer.fit_transform(X)\n",
    "\n",
    "print(X_)"
   ]
  },
  {
   "cell_type": "code",
   "execution_count": null,
   "metadata": {
    "colab": {
     "base_uri": "https://localhost:8080/",
     "height": 80
    },
    "executionInfo": {
     "elapsed": 788,
     "status": "ok",
     "timestamp": 1734308121970,
     "user": {
      "displayName": "YP Wong MMU",
      "userId": "07689819114152186357"
     },
     "user_tz": -480
    },
    "id": "egRj03jnTU2J",
    "outputId": "0cd2fb9b-242d-40f8-e591-dd3725f5dc5b"
   },
   "outputs": [],
   "source": [
    "# NOTE: fit_intercept is default to be True\n",
    "model = LinearRegression()\n",
    "\n",
    "model.fit(X_, y)"
   ]
  },
  {
   "cell_type": "code",
   "execution_count": null,
   "metadata": {
    "colab": {
     "base_uri": "https://localhost:8080/"
    },
    "executionInfo": {
     "elapsed": 19,
     "status": "ok",
     "timestamp": 1734308121970,
     "user": {
      "displayName": "YP Wong MMU",
      "userId": "07689819114152186357"
     },
     "user_tz": -480
    },
    "id": "Tv4upITbTako",
    "outputId": "6a2fc4d9-7936-45fb-ee2e-c88820f8fecd"
   },
   "outputs": [],
   "source": [
    "r_sq = model.score(X_, y)\n",
    "\n",
    "print(f\"coefficient of determination: {r_sq}\")\n",
    "print(f\"intercept: {model.intercept_}\")\n",
    "print(f\"slope: {model.coef_}\")\n",
    "\n",
    "y_pred = model.predict(X_)\n",
    "print(f\"predicted response:\\n{y_pred}\")\n",
    "\n",
    "# Manually compute prediction using equation\n",
    "y_pred_eq = model.intercept_ + np.sum(model.coef_ * X_, axis = 1).reshape((-1, 1))\n",
    "print(f\"predicted response:\\n{y_pred}\")\n",
    "\n",
    "print(np.abs(y_pred - y_pred_eq) < 0.0000001)"
   ]
  },
  {
   "cell_type": "markdown",
   "metadata": {
    "id": "enJWhkFLdTVe"
   },
   "source": [
    "Method 2: Polynomial Features: `include_bias = True`"
   ]
  },
  {
   "cell_type": "code",
   "execution_count": null,
   "metadata": {
    "colab": {
     "base_uri": "https://localhost:8080/"
    },
    "executionInfo": {
     "elapsed": 17,
     "status": "ok",
     "timestamp": 1734308121971,
     "user": {
      "displayName": "YP Wong MMU",
      "userId": "07689819114152186357"
     },
     "user_tz": -480
    },
    "id": "GeAKyxs3TfaA",
    "outputId": "961cab2c-2d60-4a1b-ad21-e3f168599949"
   },
   "outputs": [],
   "source": [
    "X_ = PolynomialFeatures(degree=2, include_bias = True).fit_transform(X)\n",
    "\n",
    "print(X_)"
   ]
  },
  {
   "cell_type": "code",
   "execution_count": null,
   "metadata": {
    "colab": {
     "base_uri": "https://localhost:8080/",
     "height": 80
    },
    "executionInfo": {
     "elapsed": 14,
     "status": "ok",
     "timestamp": 1734308121971,
     "user": {
      "displayName": "YP Wong MMU",
      "userId": "07689819114152186357"
     },
     "user_tz": -480
    },
    "id": "OnnSc3ckT8ip",
    "outputId": "6cf91c9c-09ae-4c50-b936-86d45342d3cc"
   },
   "outputs": [],
   "source": [
    "# NOTE: fit_intercept is now equals to False\n",
    "model = LinearRegression(fit_intercept = False)\n",
    "\n",
    "model.fit(X_, y)"
   ]
  },
  {
   "cell_type": "code",
   "execution_count": null,
   "metadata": {
    "colab": {
     "base_uri": "https://localhost:8080/"
    },
    "executionInfo": {
     "elapsed": 13,
     "status": "ok",
     "timestamp": 1734308121971,
     "user": {
      "displayName": "YP Wong MMU",
      "userId": "07689819114152186357"
     },
     "user_tz": -480
    },
    "id": "ASwKFpt3T-6I",
    "outputId": "3e98ab32-3c13-45a1-bff3-039bf942da55"
   },
   "outputs": [],
   "source": [
    "r_sq = model.score(X_, y)\n",
    "\n",
    "print(f\"coefficient of determination: {r_sq}\")\n",
    "print(f\"intercept: {model.intercept_}\")\n",
    "print(f\"slope: {model.coef_}\")\n",
    "\n",
    "y_pred = model.predict(X_)\n",
    "print(f\"predicted response:\\n{y_pred}\")\n",
    "\n",
    "# Manually compute prediction using equation\n",
    "y_pred_eq = model.intercept_ + np.sum(model.coef_ * X_, axis = 1).reshape((-1, 1))\n",
    "print(f\"predicted response:\\n{y_pred}\")\n",
    "\n",
    "print(np.abs(y_pred - y_pred_eq) < 0.0000001)"
   ]
  },
  {
   "cell_type": "code",
   "execution_count": null,
   "metadata": {
    "colab": {
     "base_uri": "https://localhost:8080/",
     "height": 594
    },
    "executionInfo": {
     "elapsed": 12,
     "status": "ok",
     "timestamp": 1734308121972,
     "user": {
      "displayName": "YP Wong MMU",
      "userId": "07689819114152186357"
     },
     "user_tz": -480
    },
    "id": "REcDK3paiG2W",
    "outputId": "9472f953-019d-4497-9c9a-b4259d004a7d"
   },
   "outputs": [],
   "source": [
    "X_new = np.array([2.4, 3.5, 4.8, 5.5, 7, 8.5, 10]).reshape((-1, 1))\n",
    "\n",
    "# Do NOT forget to transform using PolynomialFeatures !!!\n",
    "X_new_ = PolynomialFeatures(degree=2, include_bias = True).fit_transform(X_new)\n",
    "\n",
    "y_new_pred = model.predict(X_new_)\n",
    "\n",
    "plt.figure(figsize=(8, 6))\n",
    "\n",
    "plt.xlim(0, 10)\n",
    "plt.ylim(0, 20)\n",
    "plt.xlabel('x')\n",
    "plt.ylabel('y')\n",
    "plt.scatter(X, y, color = \"blue\", label = \"Data Points\")\n",
    "plt.scatter(X, y_pred, color = \"red\", label = \"Predicted Points\")\n",
    "plt.scatter(X_new, y_new_pred, color = \"cyan\", label = \"New Predicted Points\")\n",
    "\n",
    "line_Xs = np.linspace(0, 10, 100).reshape(-1, 1)\n",
    "# Do NOT forget to transform using PolynomialFeatures !!!\n",
    "line_Xs_ = PolynomialFeatures(degree=2, include_bias = True).fit_transform(line_Xs)\n",
    "\n",
    "line_ys = model.predict(line_Xs_)\n",
    "plt.plot(line_Xs, line_ys)\n",
    "\n",
    "coef0 = model.coef_.squeeze()[0]\n",
    "coef1 = model.coef_.squeeze()[1]\n",
    "coef2 = model.coef_.squeeze()[2]\n",
    "\n",
    "title_text = \"$y$ = (%0.3f) + (%0.3f) $X$ + (%0.3f) $X^2$\\n$R^2$ = %0.3f\" % (coef0, coef1, coef2, r_sq)\n",
    "plt.title(title_text)\n",
    "\n",
    "plt.legend()\n",
    "\n",
    "plt.show()"
   ]
  },
  {
   "cell_type": "markdown",
   "metadata": {
    "id": "HT8Lp0y4UMiB"
   },
   "source": [
    "### Advanced Linear Regression With statsmodels\n",
    "\n",
    "Reference:\n",
    "- https://www.statsmodels.org/stable/generated/statsmodels.regression.linear_model.RegressionResults.html"
   ]
  },
  {
   "cell_type": "code",
   "execution_count": null,
   "metadata": {
    "id": "SbbQXL4JUNU_"
   },
   "outputs": [],
   "source": [
    "import numpy as np\n",
    "import statsmodels.api as sm"
   ]
  },
  {
   "cell_type": "code",
   "execution_count": null,
   "metadata": {
    "colab": {
     "base_uri": "https://localhost:8080/"
    },
    "executionInfo": {
     "elapsed": 18,
     "status": "ok",
     "timestamp": 1734308123428,
     "user": {
      "displayName": "YP Wong MMU",
      "userId": "07689819114152186357"
     },
     "user_tz": -480
    },
    "id": "5AWCXsOAURDw",
    "outputId": "e5a83b96-e0ee-43cd-bcdb-807d37f6a565"
   },
   "outputs": [],
   "source": [
    "X = np.array( [ [  5, 35],\n",
    "                [ 10, 50],\n",
    "                [ 25, 50],\n",
    "                [ 40, 15],\n",
    "                [ 55, 90],\n",
    "                [ 60, 45],\n",
    "                [ 75, 75],\n",
    "                [ 80, 15],\n",
    "                [ 90, 60],\n",
    "                [100, 40]\n",
    "              ] )\n",
    "\n",
    "y = np.array( [40.0, 30.0, 28.0, 40.0, 15.0, 25.0, 10.0, 30.0, 16.0, 15.0] ).reshape((-1, 1))\n",
    "\n",
    "print(X)\n",
    "print(y)"
   ]
  },
  {
   "cell_type": "code",
   "execution_count": null,
   "metadata": {
    "colab": {
     "base_uri": "https://localhost:8080/"
    },
    "executionInfo": {
     "elapsed": 16,
     "status": "ok",
     "timestamp": 1734308123428,
     "user": {
      "displayName": "YP Wong MMU",
      "userId": "07689819114152186357"
     },
     "user_tz": -480
    },
    "id": "SnKYtXrjUTTA",
    "outputId": "c4175ee0-e7dc-49a4-a1bc-ac4820e8d655"
   },
   "outputs": [],
   "source": [
    "X = sm.add_constant(X)\n",
    "print(X)"
   ]
  },
  {
   "cell_type": "code",
   "execution_count": null,
   "metadata": {
    "id": "ArIb6qcnUXKp"
   },
   "outputs": [],
   "source": [
    "model = sm.OLS(y, X)   # OLS = Ordinary Least Squares, NOTE, X is 2nd argument\n",
    "\n",
    "results = model.fit()"
   ]
  },
  {
   "cell_type": "code",
   "execution_count": null,
   "metadata": {
    "colab": {
     "base_uri": "https://localhost:8080/"
    },
    "executionInfo": {
     "elapsed": 14,
     "status": "ok",
     "timestamp": 1734308123429,
     "user": {
      "displayName": "YP Wong MMU",
      "userId": "07689819114152186357"
     },
     "user_tz": -480
    },
    "id": "1kVAdkt8Ufv5",
    "outputId": "e06e833e-0844-48d0-8de4-5a96860eeb0d"
   },
   "outputs": [],
   "source": [
    "print(results.summary())"
   ]
  },
  {
   "cell_type": "code",
   "execution_count": null,
   "metadata": {
    "colab": {
     "base_uri": "https://localhost:8080/"
    },
    "executionInfo": {
     "elapsed": 12,
     "status": "ok",
     "timestamp": 1734308123429,
     "user": {
      "displayName": "YP Wong MMU",
      "userId": "07689819114152186357"
     },
     "user_tz": -480
    },
    "id": "wdBjE79TUhvA",
    "outputId": "be45ddc0-5fb1-46a5-e7aa-bf5c7f322231"
   },
   "outputs": [],
   "source": [
    "print(f\"coefficient of determination: {results.rsquared}\")\n",
    "print(f\"adjusted coefficient of determination: {results.rsquared_adj}\")\n",
    "print(f\"regression coefficients: {results.params}\")"
   ]
  },
  {
   "cell_type": "code",
   "execution_count": null,
   "metadata": {
    "colab": {
     "base_uri": "https://localhost:8080/"
    },
    "executionInfo": {
     "elapsed": 10,
     "status": "ok",
     "timestamp": 1734308123429,
     "user": {
      "displayName": "YP Wong MMU",
      "userId": "07689819114152186357"
     },
     "user_tz": -480
    },
    "id": "JR8WGf0cUk6I",
    "outputId": "9f6a94b7-d5b2-4b32-d582-d2fecb3b57a0"
   },
   "outputs": [],
   "source": [
    "print(f\"predicted response:\\n{results.fittedvalues}\")\n",
    "print(f\"predicted response:\\n{results.predict(X)}\")"
   ]
  },
  {
   "cell_type": "code",
   "execution_count": null,
   "metadata": {
    "colab": {
     "base_uri": "https://localhost:8080/"
    },
    "executionInfo": {
     "elapsed": 8,
     "status": "ok",
     "timestamp": 1734308123429,
     "user": {
      "displayName": "YP Wong MMU",
      "userId": "07689819114152186357"
     },
     "user_tz": -480
    },
    "id": "o6S8snWxUtlA",
    "outputId": "64be44d4-92f3-4908-f713-b52bda96c425"
   },
   "outputs": [],
   "source": [
    "X_new = sm.add_constant(np.arange(10).reshape((-1, 2)))\n",
    "\n",
    "y_new = results.predict(X_new)\n",
    "print(y_new)"
   ]
  },
  {
   "cell_type": "markdown",
   "metadata": {
    "id": "2TZXno4Exmgm"
   },
   "source": [
    "## Linear Regression From Scratch (Without Libraries)"
   ]
  },
  {
   "cell_type": "code",
   "execution_count": null,
   "metadata": {
    "colab": {
     "base_uri": "https://localhost:8080/"
    },
    "executionInfo": {
     "elapsed": 4628,
     "status": "ok",
     "timestamp": 1734308128051,
     "user": {
      "displayName": "YP Wong MMU",
      "userId": "07689819114152186357"
     },
     "user_tz": -480
    },
    "id": "0DTJO09__x7Z",
    "outputId": "72b0a55b-9eb2-40de-cee9-659a52edca57"
   },
   "outputs": [],
   "source": [
    "!pip install latexify-py==0.3.1\n",
    "\n",
    "import latexify\n",
    "\n",
    "latexify.__version__\n",
    "\n",
    "from IPython.display import display, Latex\n",
    "\n",
    "def array_to_latex(X, precision = 8, suppress_small = True):\n",
    "  latex_code = np.array2string(X, precision = precision,\n",
    "                               separator=' & ',\n",
    "                               suppress_small = suppress_small)\n",
    "  latex_code = latex_code.replace(\"[\", \"\\\\begin{bmatrix}\\n \", 1)\n",
    "  latex_code = latex_code.rsplit(\"]\", 1)\n",
    "  latex_code = \"\\n\\\\end{bmatrix}\".join(latex_code)\n",
    "\n",
    "  latex_code = latex_code.replace(\"[\", \"\")\n",
    "  latex_code = latex_code.replace(\"] &\", r\" \\\\\")\n",
    "  latex_code = latex_code.replace(\"]\", \"\")\n",
    "\n",
    "  return latex_code\n",
    "\n",
    "def print_latex(latex):\n",
    "  display(Latex(latex))\n",
    "\n",
    "def println_latex(latex):\n",
    "  display(Latex(latex))\n",
    "  print()"
   ]
  },
  {
   "cell_type": "code",
   "execution_count": null,
   "metadata": {
    "colab": {
     "base_uri": "https://localhost:8080/",
     "height": 489
    },
    "executionInfo": {
     "elapsed": 55,
     "status": "ok",
     "timestamp": 1734308128051,
     "user": {
      "displayName": "YP Wong MMU",
      "userId": "07689819114152186357"
     },
     "user_tz": -480
    },
    "id": "vvO648-iALXr",
    "outputId": "6b09df0b-b919-492f-e0b4-ada11a2cb383"
   },
   "outputs": [],
   "source": [
    "# Code to generate LaTeX output\n",
    "\n",
    "latex1 = r\"\"\"\n",
    "\\text{Given $m \\times n$ data matrix $\\mathbf{X}$ for our independant variables\n",
    "and $y$ for our dependant variable}\n",
    "\"\"\"\n",
    "println_latex(latex1)\n",
    "\n",
    "latex1 = r\"\"\"\n",
    "\\mathbf{X} =\n",
    "  \\begin{bmatrix}\n",
    "    x_{1}^{(1)} & x_{2}^{(1)} & \\cdots & x_{n}^{(1)} \\\\\n",
    "    x_{1}^{(2)} & x_{2}^{(2)} & \\cdots & x_{n}^{(2)} \\\\\n",
    "    \\vdots & \\vdots & \\ddots & \\vdots \\\\\n",
    "    x_{1}^{(m)} & x_{2}^{(m)} & \\cdots & x_{n}^{(m)}\n",
    "  \\end{bmatrix}, \\ \\ \\ \\\n",
    "\\mathbf{y} =\n",
    "  \\begin{bmatrix}\n",
    "    y^{(1)} \\\\\n",
    "    y^{(2)} \\\\\n",
    "    \\vdots \\\\\n",
    "    y^{(m)}\n",
    "  \\end{bmatrix}\n",
    "\"\"\"\n",
    "println_latex(\"$$\" + latex1 + \"$$\")\n",
    "\n",
    "latex1 = r\"\"\"\n",
    "\\text{where $m$ is the data size (number of points = number of observations)\n",
    " and $n$ is the data dimension (number of features),}\n",
    "\"\"\"\n",
    "println_latex(latex1)\n",
    "\n",
    "latex1 = r\"\"\"\n",
    "\\text{we want to find the coefficient $c_0$, $c_1$, \\dots, $c_n$ such that}\n",
    "\"\"\"\n",
    "println_latex(latex1)\n",
    "\n",
    "latex1 = r\"\"\"\n",
    "y^{(1)} = c_0 + c_1 x_{1}^{(1)} + c_2 x_{2}^{(1)} + \\dots + c_n x_{n}^{(1)} + \\varepsilon^{(1)} \\\\\n",
    "y^{(2)} = c_0 + c_1 x_{1}^{(2)} + c_2 x_{2}^{(2)} + \\dots + c_n x_{n}^{(2)} + \\varepsilon^{(2)} \\\\\n",
    "\n",
    "\\vdots \\\\\n",
    "\n",
    "y^{(m)} = c_0 + c_1 x_{1}^{(m)} + c_2 x_{2}^{(m)} + \\dots + c_n x_{n}^{(m)} + \\varepsilon^{(m)}\n",
    "\"\"\"\n",
    "println_latex(\"$$\" + latex1 + \"$$\")\n",
    "\n",
    "latex1 = r\"\"\"\n",
    "\\text{minimizes}\n",
    "\"\"\"\n",
    "println_latex(latex1)\n",
    "\n",
    "latex1 = r\"\"\"\n",
    "\\Epsilon = (\\varepsilon^{(1)})^2 + (\\varepsilon^{(2)})^2 + \\dots + (\\varepsilon^{(m)})^2\n",
    "\"\"\"\n",
    "println_latex(\"$$\" + latex1 + \"$$\")\n",
    "\n",
    "latex1 = r\"\"\"\n",
    "\\text{where $\\varepsilon^{(1)}$, $\\varepsilon^{(2)}$, \\dots, $\\varepsilon^{(m)}$ are gaussian errors.}\n",
    "\"\"\"\n",
    "println_latex(latex1)\n",
    "\n"
   ]
  },
  {
   "cell_type": "code",
   "execution_count": null,
   "metadata": {
    "colab": {
     "base_uri": "https://localhost:8080/",
     "height": 751
    },
    "executionInfo": {
     "elapsed": 540,
     "status": "ok",
     "timestamp": 1734308128544,
     "user": {
      "displayName": "YP Wong MMU",
      "userId": "07689819114152186357"
     },
     "user_tz": -480
    },
    "id": "ZuiktnvPq72y",
    "outputId": "7536599e-8999-40c9-d72d-9cef28bfd700"
   },
   "outputs": [],
   "source": [
    "latex1 = r\"\"\"\n",
    "\\text{We rewrite the above in matrix and vector form as below.}\n",
    "\"\"\"\n",
    "println_latex(latex1)\n",
    "\n",
    "latex1 = r\"\"\"\n",
    "\\text{Given}\n",
    "\"\"\"\n",
    "println_latex(latex1)\n",
    "\n",
    "latex1 = r\"\"\"\n",
    "\\mathbf{y} =\n",
    "  \\begin{bmatrix}\n",
    "    y^{(1)} \\\\\n",
    "    y^{(2)} \\\\\n",
    "    \\vdots \\\\\n",
    "    y^{(m)}\n",
    "  \\end{bmatrix}, \\ \\ \\ \\\n",
    "\\mathbf{A} =\n",
    "  \\begin{bmatrix}\n",
    "    1 & x_{1}^{(1)} & x_{2}^{(1)} & \\cdots & x_{n}^{(1)} \\\\\n",
    "    1 & x_{1}^{(2)} & x_{2}^{(2)} & \\cdots & x_{n}^{(2)} \\\\\n",
    "    \\vdots & \\vdots & \\vdots & \\ddots & \\vdots \\\\\n",
    "    1 & x_{1}^{(m)} & x_{2}^{(m)} & \\cdots & x_{n}^{(m)}\n",
    "  \\end{bmatrix}, \\ \\ \\ \\\n",
    "\\mathbf{c} =\n",
    "  \\begin{bmatrix}\n",
    "    c_{0} \\\\\n",
    "    c_{1} \\\\\n",
    "    \\vdots \\\\\n",
    "    c_{n}\n",
    "  \\end{bmatrix}, \\ \\ \\ \\\n",
    "\\mathbf{\\varepsilon} =\n",
    "  \\begin{bmatrix}\n",
    "    \\varepsilon^{(1)} \\\\\n",
    "    \\varepsilon^{(2)} \\\\\n",
    "    \\vdots \\\\\n",
    "    \\varepsilon^{(m)}\n",
    "  \\end{bmatrix},\n",
    "\"\"\"\n",
    "println_latex(\"$$\" + latex1 + \"$$\")\n",
    "\n",
    "latex1 = r\"\"\"\n",
    "  \\begin{bmatrix}\n",
    "    y^{(1)} \\\\\n",
    "    y^{(2)} \\\\\n",
    "    \\vdots \\\\\n",
    "    y^{(m)}\n",
    "  \\end{bmatrix} =\n",
    "  \\begin{bmatrix}\n",
    "    1 & x_{1}^{(1)} & x_{2}^{(1)} & \\cdots & x_{n}^{(1)} \\\\\n",
    "    1 & x_{1}^{(2)} & x_{2}^{(2)} & \\cdots & x_{n}^{(2)} \\\\\n",
    "    \\vdots & \\vdots & \\vdots & \\ddots & \\vdots \\\\\n",
    "    1 & x_{1}^{(m)} & x_{2}^{(m)} & \\cdots & x_{n}^{(m)}\n",
    "  \\end{bmatrix}\n",
    "  \\begin{bmatrix}\n",
    "    c_{0} \\\\\n",
    "    c_{1} \\\\\n",
    "    \\vdots \\\\\n",
    "    c_{n}\n",
    "  \\end{bmatrix} +\n",
    "  \\begin{bmatrix}\n",
    "    \\varepsilon^{(1)} \\\\\n",
    "    \\varepsilon^{(2)} \\\\\n",
    "    \\vdots \\\\\n",
    "    \\varepsilon^{(m)}\n",
    "  \\end{bmatrix}\n",
    "\"\"\"\n",
    "println_latex(\"$$\" + latex1 + \"$$\")\n",
    "\n",
    "latex1 = r\"\"\"\n",
    "\\mathbf{y} = \\mathbf{A} \\mathbf{c} + \\mathbf{\\varepsilon}\n",
    "\"\"\"\n",
    "println_latex(\"$$\" + latex1 + \"$$\")\n",
    "\n",
    "latex1 = r\"\"\"\n",
    "\\text{and,}\n",
    "\"\"\"\n",
    "println_latex(latex1)\n",
    "\n",
    "latex1 = r\"\"\"\n",
    "\\Epsilon = (\\varepsilon^{(1)})^2 + (\\varepsilon^{(2)})^2 + \\dots + (\\varepsilon^{(n)})^2 \\\\\n",
    "\\Epsilon = \\sum_{j=1}^{n} (\\varepsilon^{(j)})^2 \\\\\n",
    "\\Epsilon = \\mathbf{\\varepsilon}^T \\mathbf{\\varepsilon} \\\\\n",
    "\\Epsilon =  (\\mathbf{y} - \\mathbf{A} \\mathbf{c})^T (\\mathbf{y} - \\mathbf{A} \\mathbf{c}) \\\\\n",
    "\\Epsilon =   \\mathbf{y}^T \\mathbf{y}\n",
    "           - \\mathbf{y}^T (\\mathbf{A} \\mathbf{c}) - (\\mathbf{A} \\mathbf{c})^T \\mathbf{y}\n",
    "           + (\\mathbf{A} \\mathbf{c})^T (\\mathbf{A} \\mathbf{c}) \\\\\n",
    "\\Epsilon =   \\mathbf{y}^T \\mathbf{y}\n",
    "           - \\mathbf{y}^T \\mathbf{A} \\mathbf{c} - \\mathbf{c}^T \\mathbf{A}^T \\mathbf{y}\n",
    "           + \\mathbf{c}^T \\mathbf{A}^T \\mathbf{A} \\mathbf{c} \\\\\n",
    "\\Epsilon =   \\mathbf{y}^T \\mathbf{y}\n",
    "           - 2 \\mathbf{c}^T \\mathbf{A}^T \\mathbf{y}\n",
    "           + \\mathbf{c}^T \\mathbf{A}^T \\mathbf{A} \\mathbf{c}\n",
    "\"\"\"\n",
    "println_latex(\"$$\" + latex1 + \"$$\")\n",
    "\n",
    "latex1 = r\"\"\"\n",
    "\\text{To Minimze $\\Epsilon$, differentiating with respect of $\\mathbf{c}$\n",
    " and set equal to $\\mathbf{0}$ gives the \"normal equations\"}\n",
    "\"\"\"\n",
    "println_latex(latex1)\n",
    "\n",
    "latex1 = r\"\"\"\n",
    "\\frac{\\partial \\Epsilon}{\\partial \\mathbf{c}}\n",
    " = - 2 \\mathbf{A}^T \\mathbf{y} + 2 \\mathbf{A}^T \\mathbf{A} \\mathbf{c} = \\mathbf{0} \\\\\n",
    "\\mathbf{A}^T \\mathbf{A} \\mathbf{c} = \\mathbf{A}^T \\mathbf{y}\n",
    "\"\"\"\n",
    "println_latex(\"$$\" + latex1 + \"$$\")\n",
    "\n",
    "latex1 = r\"\"\"\n",
    "\\text{The solution is thus}\n",
    "\"\"\"\n",
    "println_latex(latex1)\n",
    "\n",
    "latex1 = r\"\"\"\n",
    "\\mathbf{c} = (\\mathbf{A}^T \\mathbf{A})^{-1}  \\mathbf{A}^T \\mathbf{y}\n",
    "\"\"\"\n",
    "println_latex(\"$$\" + latex1 + \"$$\")"
   ]
  },
  {
   "cell_type": "code",
   "execution_count": null,
   "metadata": {
    "colab": {
     "base_uri": "https://localhost:8080/"
    },
    "executionInfo": {
     "elapsed": 37,
     "status": "ok",
     "timestamp": 1734308128544,
     "user": {
      "displayName": "YP Wong MMU",
      "userId": "07689819114152186357"
     },
     "user_tz": -480
    },
    "id": "PbvPjptNUvaQ",
    "outputId": "8959ea91-526f-473d-ea4c-452ab2aca8b5"
   },
   "outputs": [],
   "source": [
    "X = np.array([1, 3, 5, 6, 8, 9]).reshape((-1, 1))\n",
    "y = np.array([4, 6, 9, 13, 14, 17]).reshape((-1, 1))\n",
    "print(X)\n",
    "print(y)\n",
    "print(X.shape)\n",
    "print(y.shape)"
   ]
  },
  {
   "cell_type": "code",
   "execution_count": null,
   "metadata": {
    "colab": {
     "base_uri": "https://localhost:8080/"
    },
    "executionInfo": {
     "elapsed": 36,
     "status": "ok",
     "timestamp": 1734308128545,
     "user": {
      "displayName": "YP Wong MMU",
      "userId": "07689819114152186357"
     },
     "user_tz": -480
    },
    "id": "iD0Kld5QzZ-B",
    "outputId": "a4fe412a-ea1c-4ffe-f7bf-e52ad0ca5b07"
   },
   "outputs": [],
   "source": [
    "A = np.append(np.ones((X.shape[0], 1)), X, axis = 1)\n",
    "print(A)"
   ]
  },
  {
   "cell_type": "code",
   "execution_count": null,
   "metadata": {
    "colab": {
     "base_uri": "https://localhost:8080/"
    },
    "executionInfo": {
     "elapsed": 33,
     "status": "ok",
     "timestamp": 1734308128545,
     "user": {
      "displayName": "YP Wong MMU",
      "userId": "07689819114152186357"
     },
     "user_tz": -480
    },
    "id": "KYtgNunBzfN7",
    "outputId": "5a2f8d98-68a2-4c2a-b1f8-e8522814d47a"
   },
   "outputs": [],
   "source": [
    "AT = A.T\n",
    "C = AT @ A\n",
    "print(C)"
   ]
  },
  {
   "cell_type": "code",
   "execution_count": null,
   "metadata": {
    "colab": {
     "base_uri": "https://localhost:8080/"
    },
    "executionInfo": {
     "elapsed": 31,
     "status": "ok",
     "timestamp": 1734308128545,
     "user": {
      "displayName": "YP Wong MMU",
      "userId": "07689819114152186357"
     },
     "user_tz": -480
    },
    "id": "45biQDI3zjBV",
    "outputId": "2f5085a5-eee0-4fad-b5bb-d3475d7dd4fc"
   },
   "outputs": [],
   "source": [
    "det = C[0, 0] * C[1, 1] - C[0, 1] * C[1, 0]\n",
    "print(det)"
   ]
  },
  {
   "cell_type": "code",
   "execution_count": null,
   "metadata": {
    "colab": {
     "base_uri": "https://localhost:8080/"
    },
    "executionInfo": {
     "elapsed": 28,
     "status": "ok",
     "timestamp": 1734308128545,
     "user": {
      "displayName": "YP Wong MMU",
      "userId": "07689819114152186357"
     },
     "user_tz": -480
    },
    "id": "rFoofMmR0uv_",
    "outputId": "dca0e801-a895-45ce-a7d4-e37ea2399439"
   },
   "outputs": [],
   "source": [
    "C_inv = [ [ C[1, 1], -C[0, 1] ],\n",
    "          [-C[1, 0],  C[0, 0] ] ] / det\n",
    "print(C_inv)"
   ]
  },
  {
   "cell_type": "code",
   "execution_count": null,
   "metadata": {
    "colab": {
     "base_uri": "https://localhost:8080/"
    },
    "executionInfo": {
     "elapsed": 26,
     "status": "ok",
     "timestamp": 1734308128546,
     "user": {
      "displayName": "YP Wong MMU",
      "userId": "07689819114152186357"
     },
     "user_tz": -480
    },
    "id": "pCOA5mHh0w8c",
    "outputId": "8c43a938-da12-42e1-87a0-2df895defe91"
   },
   "outputs": [],
   "source": [
    "# verify using the numpy inv function\n",
    "C_inv = np.linalg.inv(C)\n",
    "print(C_inv)"
   ]
  },
  {
   "cell_type": "code",
   "execution_count": null,
   "metadata": {
    "colab": {
     "base_uri": "https://localhost:8080/"
    },
    "executionInfo": {
     "elapsed": 24,
     "status": "ok",
     "timestamp": 1734308128546,
     "user": {
      "displayName": "YP Wong MMU",
      "userId": "07689819114152186357"
     },
     "user_tz": -480
    },
    "id": "eU_cO5JtPFst",
    "outputId": "481ad2f7-e95f-4a78-8206-f763b4c29c6a"
   },
   "outputs": [],
   "source": [
    "coef = C_inv @ AT @ y\n",
    "print(coef)"
   ]
  },
  {
   "cell_type": "code",
   "execution_count": null,
   "metadata": {
    "id": "ZRZ3RaVC0sR_"
   },
   "outputs": [],
   "source": [
    "import numpy as np\n",
    "\n",
    "class MyLinearRegression:\n",
    "\n",
    "  def __init__(self):\n",
    "    pass\n",
    "\n",
    "  def fit(self, X, y):\n",
    "    A = np.append(np.ones((X.shape[0], 1)), X, axis = 1)\n",
    "    AT = A.T\n",
    "    C = AT @ A\n",
    "    C_inv = np.linalg.inv(C)\n",
    "    coef = C_inv @ AT @ y\n",
    "    coef = coef.reshape(-1)\n",
    "    self.intercept_ = coef[0]\n",
    "    self.coef_ = coef[1:]\n",
    "    return self\n",
    "\n",
    "  def predict(self, X):\n",
    "    y_pred = self.intercept_ + np.sum(self.coef_ * X, axis = 1).reshape((-1, 1))\n",
    "    return y_pred\n",
    "\n",
    "  def score(self, X, y):\n",
    "    ssr = np.sum((y - self.predict(X))**2)\n",
    "    sst = np.sum((y - np.mean(y))**2)\n",
    "    r_sq = 1 - ssr / sst\n",
    "    return r_sq\n",
    "\n",
    "  def fit_predict(self, X, y):\n",
    "    self.fit(X, y)\n",
    "    return self.predict(X)\n",
    "\n",
    "# calculate r_sq"
   ]
  },
  {
   "cell_type": "code",
   "execution_count": null,
   "metadata": {
    "colab": {
     "base_uri": "https://localhost:8080/"
    },
    "executionInfo": {
     "elapsed": 21,
     "status": "ok",
     "timestamp": 1734308128546,
     "user": {
      "displayName": "YP Wong MMU",
      "userId": "07689819114152186357"
     },
     "user_tz": -480
    },
    "id": "OmCdaTEb6Ajq",
    "outputId": "2cb03c07-2f11-4802-dab8-c4e0909a448c"
   },
   "outputs": [],
   "source": [
    "X = np.array([1, 3, 5, 6, 8, 9]).reshape((-1, 1))\n",
    "y = np.array([4, 6, 9, 13, 14, 17]).reshape((-1, 1))\n",
    "print(X)\n",
    "print(y)\n",
    "print(X.shape)\n",
    "print(y.shape)\n",
    "\n",
    "model = MyLinearRegression()\n",
    "\n",
    "model.fit(X, y)\n",
    "\n",
    "r_sq = model.score(X, y)\n",
    "\n",
    "print(f\"coefficient of determination: {r_sq}\")\n",
    "print(f\"intercept: {model.intercept_}\")\n",
    "print(f\"slope: {model.coef_}\")\n",
    "\n",
    "y_pred = model.predict(X)\n",
    "print(f\"predicted response:\\n{y_pred}\")"
   ]
  },
  {
   "cell_type": "code",
   "execution_count": null,
   "metadata": {
    "colab": {
     "base_uri": "https://localhost:8080/"
    },
    "executionInfo": {
     "elapsed": 18,
     "status": "ok",
     "timestamp": 1734308128546,
     "user": {
      "displayName": "YP Wong MMU",
      "userId": "07689819114152186357"
     },
     "user_tz": -480
    },
    "id": "F-4ywOVW_Tfr",
    "outputId": "37af46e5-3bcf-4352-ad37-cb99d4f05bc9"
   },
   "outputs": [],
   "source": [
    "X = np.array( [ [  5, 35],\n",
    "                [ 10, 50],\n",
    "                [ 25, 50],\n",
    "                [ 40, 15],\n",
    "                [ 55, 90],\n",
    "                [ 60, 45],\n",
    "                [ 75, 75],\n",
    "                [ 80, 15],\n",
    "                [ 90, 60],\n",
    "                [100, 40]\n",
    "              ] )\n",
    "\n",
    "y = np.array( [40.0, 30.0, 28.0, 40.0, 15.0, 25.0, 10.0, 30.0, 16.0, 15.0] ).reshape((-1, 1))\n",
    "\n",
    "print(X)\n",
    "print(y)\n",
    "\n",
    "model = MyLinearRegression()\n",
    "\n",
    "model.fit(X, y)\n",
    "\n",
    "r_sq = model.score(X, y)\n",
    "\n",
    "print(f\"coefficient of determination: {r_sq}\")\n",
    "print(f\"intercept: {model.intercept_}\")\n",
    "print(f\"slope: {model.coef_}\")\n",
    "\n",
    "y_pred = model.predict(X)\n",
    "print(f\"predicted response:\\n{y_pred}\")"
   ]
  },
  {
   "cell_type": "markdown",
   "metadata": {
    "id": "SSxujFGN_fGp"
   },
   "source": [
    "## END."
   ]
  },
  {
   "cell_type": "code",
   "execution_count": null,
   "metadata": {
    "id": "ABUXOFORfqcD"
   },
   "outputs": [],
   "source": []
  }
 ],
 "metadata": {
  "colab": {
   "provenance": []
  },
  "kernelspec": {
   "display_name": "Python 3",
   "name": "python3"
  },
  "language_info": {
   "name": "python"
  }
 },
 "nbformat": 4,
 "nbformat_minor": 0
}
