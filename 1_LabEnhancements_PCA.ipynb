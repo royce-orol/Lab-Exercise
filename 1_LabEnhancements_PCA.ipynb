{
 "cells": [
  {
   "cell_type": "markdown",
   "metadata": {},
   "source": [
    "## <font color='lightblue'>Lab Enhancement : PCA </font>"
   ]
  },
  {
   "cell_type": "markdown",
   "metadata": {},
   "source": [
    "## Overview of Original Lab\n",
    "\n",
    "##### PCA Overview: A general explanation of PCA im paragraph form.\n",
    "\n",
    "##### Where Can You Apply PCA?: A section explaining PCA's applications.\n",
    "\n",
    "##### What is PCA?: A deeper dive into PCA's mathematical foundations.\n",
    "\n",
    "##### Understanding the Data: Introduction to two datasets—Breast Cancer and CIFAR-10.\n",
    "\n",
    "##### Breast Cancer Data Exploration.\n",
    "\n",
    "##### Data Visualization Using PCA (Breast Cancer Dataset).\n",
    "\n",
    "##### Preprocessing: Data Normalization.\n",
    "\n",
    "##### CIFAR-10 Data Exploration.\n",
    "\n",
    "##### Data Visualization Using PCA (CIFAR-10 Dataset).\n",
    "\n",
    "##### Deep Learning Training with CIFAR-10:\n",
    "\n",
    "##### Training With PCA.\n",
    "\n",
    "##### Training Without PCA.\n",
    "\n",
    "##### Lab Exercises (TO DO):\n",
    "\n",
    "##### Use a 3D scatterplot to plot the first three principal components of the CIFAR-10 dataset.\n",
    "\n",
    "##### Experiment with different batch sizes, epochs, and dataset sizes for training/testing.\n",
    "\n",
    "##### Use appropriate plots to compare results, performance, and speed of models with and without PCA.\n"
   ]
  },
  {
   "cell_type": "markdown",
   "metadata": {},
   "source": [
    "## Overview of Enhanced Lab Exercise\n",
    "\n",
    "##### Introduction to PCA (Improved and Expanded)\n",
    "##### Interactive PCA Visualizations with Widgets \n",
    "##### PCA with Time Series Data "
   ]
  }
 ],
 "metadata": {
  "language_info": {
   "name": "python"
  }
 },
 "nbformat": 4,
 "nbformat_minor": 2
}
