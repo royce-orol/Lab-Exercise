{
 "cells": [
  {
   "cell_type": "markdown",
   "metadata": {},
   "source": [
    "## <font color='lightblue'>Lab Enhancement : PCA </font>"
   ]
  },
  {
   "cell_type": "markdown",
   "metadata": {},
   "source": [
    "## Overview of Original Lab\n",
    "\n",
    "##### PCA Overview: A general explanation of PCA im paragraph form.\n",
    "\n",
    "##### Where Can You Apply PCA?: A section explaining PCA's applications.\n",
    "\n",
    "##### What is PCA?: A deeper dive into PCA's mathematical foundations.\n",
    "\n",
    "##### Understanding the Data: Introduction to two datasets—Breast Cancer and CIFAR-10.\n",
    "\n",
    "##### Breast Cancer Data Exploration.\n",
    "\n",
    "##### Data Visualization Using PCA (Breast Cancer Dataset).\n",
    "\n",
    "##### Preprocessing: Data Normalization.\n",
    "\n",
    "##### CIFAR-10 Data Exploration.\n",
    "\n",
    "##### Data Visualization Using PCA (CIFAR-10 Dataset).\n",
    "\n",
    "##### Deep Learning Training with CIFAR-10:\n",
    "\n",
    "##### Training With PCA.\n",
    "\n",
    "##### Training Without PCA.\n",
    "\n",
    "##### Lab Exercises (TO DO):\n",
    "\n",
    "##### Use a 3D scatterplot to plot the first three principal components of the CIFAR-10 dataset.\n",
    "\n",
    "##### Experiment with different batch sizes, epochs, and dataset sizes for training/testing.\n",
    "\n",
    "##### Use appropriate plots to compare results, performance, and speed of models with and without PCA.\n"
   ]
  },
  {
   "cell_type": "markdown",
   "metadata": {},
   "source": [
    "## Overview of Enhanced Lab Exercise\n",
    "\n",
    "##### Introduction to PCA (Improved and Expanded)\n",
    "##### Interactive PCA Visualizations with Widgets (Improved on CIFAR-10 Dataset Understanding)\n",
    "##### PCA with Time Series Data \n",
    "##### PCA for Feature Engineering\n",
    "##### Added Extra and refined lab exercises with detailed explanation on requirements\n"
   ]
  },
  {
   "cell_type": "markdown",
   "metadata": {},
   "source": [
    "## <font color='lightblue'>Introduction to PCA (Improved) </font>"
   ]
  },
  {
   "cell_type": "markdown",
   "metadata": {},
   "source": [
    "#### Why Dimension Reduction?\n",
    "\n",
    "#### The curse of dimensionality refers to the challenges associated with high-dimensional data, such as increased computational complexity and difficulty in visualizing data. PCA reduces data dimensions while preserving its variance, making it easier to analyze and visualize. In high-dimensional datasets, more dimensions typically lead to higher computational cost and risk of overfitting. By reducing the number of dimensions, PCA allows for faster processing and better generalization.\n",
    "\n",
    "#### Real-World Examples of PCA:\n",
    "\n",
    "##### Image Compression: PCA reduces the dimensionality of image data while preserving important features, making it suitable for compression.\n",
    "##### Genetics: PCA is used to identify patterns in genetic data and reduce the complexity of gene expression datasets.\n",
    "##### Stock Market Analysis: PCA helps reduce the number of financial indicators by finding the principal components that capture most of the data's variance, making analysis more efficient."
   ]
  },
  {
   "cell_type": "markdown",
   "metadata": {},
   "source": [
    "## <font color='lightblue'>Interactive PCA Visualization with Widgets </font> (New)"
   ]
  },
  {
   "cell_type": "code",
   "execution_count": 4,
   "metadata": {},
   "outputs": [
    {
     "data": {
      "application/vnd.jupyter.widget-view+json": {
       "model_id": "9c3a41703b84439790271a21d7632fac",
       "version_major": 2,
       "version_minor": 0
      },
      "text/plain": [
       "interactive(children=(IntSlider(value=2, description='n_components', max=10, min=2), Output()), _dom_classes=(…"
      ]
     },
     "execution_count": 4,
     "metadata": {},
     "output_type": "execute_result"
    }
   ],
   "source": [
    "import numpy as np\n",
    "import pandas as pd\n",
    "import matplotlib.pyplot as plt\n",
    "from sklearn.decomposition import PCA\n",
    "from sklearn.preprocessing import StandardScaler\n",
    "from sklearn.datasets import load_breast_cancer\n",
    "import ipywidgets as widgets\n",
    "from ipywidgets import interactive\n",
    "\n",
    "# Load dataset (Breast Cancer dataset as an example)\n",
    "data = load_breast_cancer()\n",
    "X = data.data\n",
    "y = data.target\n",
    "\n",
    "# Normalize the data\n",
    "scaler = StandardScaler()\n",
    "X_scaled = scaler.fit_transform(X)\n",
    "\n",
    "# Create PCA function for interactive visualization\n",
    "def pca_plot(n_components=2):\n",
    "    pca = PCA(n_components=n_components)\n",
    "    X_pca = pca.fit_transform(X_scaled)\n",
    "\n",
    "    # Plotting explained variance ratio\n",
    "    plt.figure(figsize=(8, 6))\n",
    "    plt.bar(range(1, n_components+1), pca.explained_variance_ratio_, alpha=0.7, color='blue')\n",
    "    plt.title(f\"Explained Variance Ratio for {n_components} Components\")\n",
    "    plt.xlabel(\"Principal Components\")\n",
    "    plt.ylabel(\"Variance Explained\")\n",
    "    plt.show()\n",
    "\n",
    "    # 2D Scatter plot\n",
    "    plt.figure(figsize=(8, 6))\n",
    "    plt.scatter(X_pca[:, 0], X_pca[:, 1], c=y, cmap='coolwarm')\n",
    "    plt.title('PCA: Breast Cancer Dataset')\n",
    "    plt.xlabel('Principal Component 1')\n",
    "    plt.ylabel('Principal Component 2')\n",
    "    plt.colorbar(label='Target Class')\n",
    "    plt.show()\n",
    "\n",
    "# Create interactive widget\n",
    "interactive_plot = interactive(pca_plot, n_components=widgets.IntSlider(min=2, max=10, step=1, value=2))\n",
    "interactive_plot\n"
   ]
  },
  {
   "cell_type": "code",
   "execution_count": 5,
   "metadata": {},
   "outputs": [
    {
     "name": "stdout",
     "output_type": "stream",
     "text": [
      "Requirement already satisfied: yfinance in /Users/haziqzairul/.local/share/virtualenvs/datamining-5l9yRiuj/lib/python3.12/site-packages (0.2.52)\n",
      "Requirement already satisfied: pandas>=1.3.0 in /Users/haziqzairul/.local/share/virtualenvs/datamining-5l9yRiuj/lib/python3.12/site-packages (from yfinance) (2.2.3)\n",
      "Requirement already satisfied: numpy>=1.16.5 in /Users/haziqzairul/.local/share/virtualenvs/datamining-5l9yRiuj/lib/python3.12/site-packages (from yfinance) (2.2.1)\n",
      "Requirement already satisfied: requests>=2.31 in /Users/haziqzairul/.local/share/virtualenvs/datamining-5l9yRiuj/lib/python3.12/site-packages (from yfinance) (2.32.3)\n",
      "Requirement already satisfied: multitasking>=0.0.7 in /Users/haziqzairul/.local/share/virtualenvs/datamining-5l9yRiuj/lib/python3.12/site-packages (from yfinance) (0.0.11)\n",
      "Requirement already satisfied: lxml>=4.9.1 in /Users/haziqzairul/.local/share/virtualenvs/datamining-5l9yRiuj/lib/python3.12/site-packages (from yfinance) (5.3.0)\n",
      "Requirement already satisfied: platformdirs>=2.0.0 in /Users/haziqzairul/.local/share/virtualenvs/datamining-5l9yRiuj/lib/python3.12/site-packages (from yfinance) (4.3.6)\n",
      "Requirement already satisfied: pytz>=2022.5 in /Users/haziqzairul/.local/share/virtualenvs/datamining-5l9yRiuj/lib/python3.12/site-packages (from yfinance) (2024.2)\n",
      "Requirement already satisfied: frozendict>=2.3.4 in /Users/haziqzairul/.local/share/virtualenvs/datamining-5l9yRiuj/lib/python3.12/site-packages (from yfinance) (2.4.6)\n",
      "Requirement already satisfied: peewee>=3.16.2 in /Users/haziqzairul/.local/share/virtualenvs/datamining-5l9yRiuj/lib/python3.12/site-packages (from yfinance) (3.17.8)\n",
      "Requirement already satisfied: beautifulsoup4>=4.11.1 in /Users/haziqzairul/.local/share/virtualenvs/datamining-5l9yRiuj/lib/python3.12/site-packages (from yfinance) (4.12.3)\n",
      "Requirement already satisfied: html5lib>=1.1 in /Users/haziqzairul/.local/share/virtualenvs/datamining-5l9yRiuj/lib/python3.12/site-packages (from yfinance) (1.1)\n",
      "Requirement already satisfied: soupsieve>1.2 in /Users/haziqzairul/.local/share/virtualenvs/datamining-5l9yRiuj/lib/python3.12/site-packages (from beautifulsoup4>=4.11.1->yfinance) (2.6)\n",
      "Requirement already satisfied: six>=1.9 in /Users/haziqzairul/.local/share/virtualenvs/datamining-5l9yRiuj/lib/python3.12/site-packages (from html5lib>=1.1->yfinance) (1.16.0)\n",
      "Requirement already satisfied: webencodings in /Users/haziqzairul/.local/share/virtualenvs/datamining-5l9yRiuj/lib/python3.12/site-packages (from html5lib>=1.1->yfinance) (0.5.1)\n",
      "Requirement already satisfied: python-dateutil>=2.8.2 in /Users/haziqzairul/.local/share/virtualenvs/datamining-5l9yRiuj/lib/python3.12/site-packages (from pandas>=1.3.0->yfinance) (2.9.0.post0)\n",
      "Requirement already satisfied: tzdata>=2022.7 in /Users/haziqzairul/.local/share/virtualenvs/datamining-5l9yRiuj/lib/python3.12/site-packages (from pandas>=1.3.0->yfinance) (2024.2)\n",
      "Requirement already satisfied: charset-normalizer<4,>=2 in /Users/haziqzairul/.local/share/virtualenvs/datamining-5l9yRiuj/lib/python3.12/site-packages (from requests>=2.31->yfinance) (3.4.0)\n",
      "Requirement already satisfied: idna<4,>=2.5 in /Users/haziqzairul/.local/share/virtualenvs/datamining-5l9yRiuj/lib/python3.12/site-packages (from requests>=2.31->yfinance) (3.10)\n",
      "Requirement already satisfied: urllib3<3,>=1.21.1 in /Users/haziqzairul/.local/share/virtualenvs/datamining-5l9yRiuj/lib/python3.12/site-packages (from requests>=2.31->yfinance) (2.2.3)\n",
      "Requirement already satisfied: certifi>=2017.4.17 in /Users/haziqzairul/.local/share/virtualenvs/datamining-5l9yRiuj/lib/python3.12/site-packages (from requests>=2.31->yfinance) (2025.1.31)\n",
      "\n",
      "\u001b[1m[\u001b[0m\u001b[34;49mnotice\u001b[0m\u001b[1;39;49m]\u001b[0m\u001b[39;49m A new release of pip is available: \u001b[0m\u001b[31;49m24.3.1\u001b[0m\u001b[39;49m -> \u001b[0m\u001b[32;49m25.0\u001b[0m\n",
      "\u001b[1m[\u001b[0m\u001b[34;49mnotice\u001b[0m\u001b[1;39;49m]\u001b[0m\u001b[39;49m To update, run: \u001b[0m\u001b[32;49mpip install --upgrade pip\u001b[0m\n",
      "Requirement already satisfied: certifi in /Users/haziqzairul/.local/share/virtualenvs/datamining-5l9yRiuj/lib/python3.12/site-packages (2025.1.31)\n",
      "\n",
      "\u001b[1m[\u001b[0m\u001b[34;49mnotice\u001b[0m\u001b[1;39;49m]\u001b[0m\u001b[39;49m A new release of pip is available: \u001b[0m\u001b[31;49m24.3.1\u001b[0m\u001b[39;49m -> \u001b[0m\u001b[32;49m25.0\u001b[0m\n",
      "\u001b[1m[\u001b[0m\u001b[34;49mnotice\u001b[0m\u001b[1;39;49m]\u001b[0m\u001b[39;49m To update, run: \u001b[0m\u001b[32;49mpip install --upgrade pip\u001b[0m\n"
     ]
    }
   ],
   "source": [
    "## Install yfinance\n",
    "!pip install yfinance\n",
    "!pip install --upgrade certifi\n"
   ]
  },
  {
   "cell_type": "markdown",
   "metadata": {},
   "source": [
    "## <font color='lightblue'>Introduction to PCA (Improved) </font>"
   ]
  },
  {
   "cell_type": "code",
   "execution_count": 6,
   "metadata": {},
   "outputs": [
    {
     "name": "stderr",
     "output_type": "stream",
     "text": [
      "[*********************100%***********************]  2 of 2 completed\n"
     ]
    },
    {
     "data": {
      "image/png": "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